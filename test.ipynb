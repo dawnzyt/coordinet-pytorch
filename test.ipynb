{
 "cells": [
  {
   "cell_type": "code",
   "execution_count": null,
   "metadata": {
    "collapsed": true,
    "is_executing": true
   },
   "outputs": [],
   "source": [
    "\n",
    "import numpy as np\n"
   ]
  },
  {
   "cell_type": "code",
   "execution_count": 8,
   "outputs": [],
   "source": [
    "import numpy as np\n",
    "from scipy.spatial.transform import Rotation\n",
    "\n",
    "def enumerate_rotation_matrices_quaternion(num_steps):\n",
    "    # 离散化参数范围\n",
    "    q_values = np.linspace(0, 1, num_steps)\n",
    "    w_values, x_values, y_values, z_values = np.meshgrid(q_values, q_values, q_values, q_values)\n",
    "\n",
    "    # 枚举所有可能的取值\n",
    "    matrices = []\n",
    "    for w, x, y, z in zip(w_values.flatten(), x_values.flatten(), y_values.flatten(), z_values.flatten()):\n",
    "        # 构造旋转矩阵\n",
    "        quat = np.array([w, x, y, z])\n",
    "        if w==0 and x==0 and y==0 and z==0:\n",
    "            continue\n",
    "        quat /= np.linalg.norm(quat)\n",
    "        r = Rotation.from_quat(quat)\n",
    "        R = r.as_matrix()\n",
    "        matrices.append(R)\n",
    "\n",
    "    return matrices"
   ],
   "metadata": {
    "collapsed": false,
    "ExecuteTime": {
     "end_time": "2023-08-03T15:04:22.060386800Z",
     "start_time": "2023-08-03T15:04:22.048417300Z"
    }
   }
  },
  {
   "cell_type": "code",
   "execution_count": null,
   "outputs": [],
   "source": [],
   "metadata": {
    "collapsed": false
   }
  },
  {
   "cell_type": "code",
   "execution_count": 16,
   "outputs": [
    {
     "name": "stdout",
     "output_type": "stream",
     "text": [
      "[-1.0000000000000004,3.0]\n"
     ]
    }
   ],
   "source": [
    "mat=enumerate_rotation_matrices_quaternion(15)\n",
    "mn,mx=5,-5\n",
    "for m in mat:\n",
    "    s=m[0,0]+m[1,1]+m[2,2]\n",
    "    mn=min(mn,s)\n",
    "    mx=max(mx,s)\n",
    "print(f'[{mn},{mx}]')"
   ],
   "metadata": {
    "collapsed": false,
    "ExecuteTime": {
     "end_time": "2023-08-03T15:06:33.810748900Z",
     "start_time": "2023-08-03T15:06:32.318825400Z"
    }
   }
  },
  {
   "cell_type": "code",
   "execution_count": null,
   "outputs": [],
   "source": [],
   "metadata": {
    "collapsed": false
   }
  }
 ],
 "metadata": {
  "kernelspec": {
   "display_name": "Python 3",
   "language": "python",
   "name": "python3"
  },
  "language_info": {
   "codemirror_mode": {
    "name": "ipython",
    "version": 2
   },
   "file_extension": ".py",
   "mimetype": "text/x-python",
   "name": "python",
   "nbconvert_exporter": "python",
   "pygments_lexer": "ipython2",
   "version": "2.7.6"
  }
 },
 "nbformat": 4,
 "nbformat_minor": 0
}
